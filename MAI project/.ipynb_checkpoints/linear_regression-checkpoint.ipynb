{
 "cells": [
  {
   "cell_type": "code",
   "execution_count": null,
   "id": "da4130e5-a8c2-46f5-a171-2d8bf9b0d87a",
   "metadata": {
    "tags": []
   },
   "outputs": [],
   "source": [
    "import numpy as np\n",
    "import pandas as pd\n",
    "from sklearn.model_selection import train_test_split\n",
    "from sklearn.linear_model import LinearRegression\n",
    "from sklearn.metrics import r2_score, mean_squared_error\n",
    "from sklearn.impute import SimpleImputer\n",
    "from sklearn.preprocessing import StandardScaler\n",
    "import matplotlib.pyplot as plt\n",
    "\n",
    "\n",
    "# Đọc dữ liệu ban đầu từ tệp 'train.csv'\n",
    "data = pd.read_csv('Data/Pre-Processing-v0.1.csv')\n",
    "\n",
    "# Sử dụng mô hình để dự đoán giá trị giá nhà cho toàn bộ dữ liệu\n",
    "X = data.drop(['SalePrice'], axis=1)\n",
    "y = data['SalePrice']\n",
    "\n",
    "repeat = 15000\n",
    "total_r2 = 0\n",
    "r2_min = 1\n",
    "r2_max = 0\n",
    "for i in range (0 , repeat):\n",
    "    X_train, X_test, y_train, y_test = train_test_split(X, y, test_size=0.2)\n",
    "\n",
    "    linear_regression = LinearRegression()\n",
    "    linear_regression.fit(X_train, y_train)\n",
    "\n",
    "    y_pred = linear_regression.predict(X_test)\n",
    "\n",
    "    # So sánh giá trị dự đoán với giá trị thực tế\n",
    "    r2 = r2_score(y_test, y_pred)\n",
    "    mse = mean_squared_error(y_test, y_pred)\n",
    "    rmse = np.sqrt(mse)\n",
    "    total += r2\n",
    "    if r2_min > r2:\n",
    "        r2_min = r2\n",
    "    elif r2_max < r2:\n",
    "        r2_max = r2\n",
    "    \n",
    "print(total/repeat)\n",
    "print(r2_max,r2_min)\n",
    "print(\"R-squared: %.2f\" % r2)\n",
    "print(\"Mean Squared Error: %.2f\" % mse)\n",
    "print(\"Root Mean Squared Error: %.2f\" % rmse)"
   ]
  }
 ],
 "metadata": {
  "kernelspec": {
   "display_name": "Python 3 (ipykernel)",
   "language": "python",
   "name": "python3"
  },
  "language_info": {
   "codemirror_mode": {
    "name": "ipython",
    "version": 3
   },
   "file_extension": ".py",
   "mimetype": "text/x-python",
   "name": "python",
   "nbconvert_exporter": "python",
   "pygments_lexer": "ipython3",
   "version": "3.11.4"
  }
 },
 "nbformat": 4,
 "nbformat_minor": 5
}
