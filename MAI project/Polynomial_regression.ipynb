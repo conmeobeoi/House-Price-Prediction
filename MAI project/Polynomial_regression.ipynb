{
 "cells": [
  {
   "cell_type": "code",
   "execution_count": 170,
   "id": "c41129fe-4e52-4c9a-b897-400e67ae1ab6",
   "metadata": {
    "tags": []
   },
   "outputs": [
    {
     "name": "stdout",
     "output_type": "stream",
     "text": [
      "R-squared: 0.76\n",
      "Mean Squared Error: 1457429221.21\n",
      "Root Mean Squared Error: 38176.29\n"
     ]
    }
   ],
   "source": [
    "import numpy as np\n",
    "import matplotlib.pyplot as plt\n",
    "from sklearn.linear_model import LinearRegression\n",
    "from sklearn.preprocessing import PolynomialFeatures\n",
    "import pandas as pd\n",
    "from sklearn.metrics import r2_score, mean_squared_error\n",
    "from sklearn.model_selection import train_test_split\n",
    "\n",
    "\n",
    "data = pd.read_csv('Data/Pre-Processing-v0.2.csv')\n",
    "\n",
    "X = data.drop(['SalePrice'], axis=1)\n",
    "y = data['SalePrice']\n",
    "\n",
    "train_size = 700\n",
    "test_size = train_size+1\n",
    "X_train = X.head(train_size)\n",
    "y_train = y.head(train_size)\n",
    "\n",
    "X_test = X.tail(test_size)\n",
    "y_test = y.tail(test_size)\n",
    "\n",
    "\n",
    "\n",
    "poly_transform = PolynomialFeatures(degree=2)\n",
    "x_poly = poly_transform.fit_transform(X_train)\n",
    "\n",
    "poly_regression = LinearRegression()\n",
    "poly_regression.fit(x_poly, y_train)\n",
    "\n",
    "x_test_poly = poly_transform.transform(X_test)\n",
    "y_pred = poly_regression.predict(x_test_poly)\n",
    "\n",
    "# So sánh giá trị dự đoán với giá trị thực tế\n",
    "r2 = r2_score(y_test, y_pred)\n",
    "mse = mean_squared_error(y_test, y_pred)\n",
    "rmse = np.sqrt(mse)\n",
    "\n",
    "print(\"R-squared: %.2f\" % r2)\n",
    "print(\"Mean Squared Error: %.2f\" % mse)\n",
    "print(\"Root Mean Squared Error: %.2f\" % rmse)"
   ]
  },
  {
   "cell_type": "code",
   "execution_count": null,
   "id": "9dc722c1-24cb-4b3e-a54f-961e8b522872",
   "metadata": {},
   "outputs": [],
   "source": []
  }
 ],
 "metadata": {
  "kernelspec": {
   "display_name": "Python 3 (ipykernel)",
   "language": "python",
   "name": "python3"
  },
  "language_info": {
   "codemirror_mode": {
    "name": "ipython",
    "version": 3
   },
   "file_extension": ".py",
   "mimetype": "text/x-python",
   "name": "python",
   "nbconvert_exporter": "python",
   "pygments_lexer": "ipython3",
   "version": "3.11.4"
  }
 },
 "nbformat": 4,
 "nbformat_minor": 5
}
