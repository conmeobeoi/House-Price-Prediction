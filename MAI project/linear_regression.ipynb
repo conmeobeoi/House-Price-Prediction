{
 "cells": [
  {
   "cell_type": "code",
   "execution_count": 5,
   "id": "da4130e5-a8c2-46f5-a171-2d8bf9b0d87a",
   "metadata": {
    "tags": []
   },
   "outputs": [
    {
     "name": "stdout",
     "output_type": "stream",
     "text": [
      "R-squared: 0.86\n",
      "Mean Squared Error: 910608551.68\n",
      "Root Mean Squared Error: 30176.29\n"
     ]
    }
   ],
   "source": [
    "import numpy as np\n",
    "import pandas as pd\n",
    "from sklearn.model_selection import train_test_split\n",
    "from sklearn.linear_model import LinearRegression\n",
    "from sklearn.metrics import r2_score, mean_squared_error\n",
    "from sklearn.preprocessing import LabelEncoder\n",
    "from sklearn.impute import SimpleImputer\n",
    "\n",
    "# Đọc dữ liệu ban đầu từ tệp 'train.csv'\n",
    "data = pd.read_csv('train.csv')\n",
    "\n",
    "# Tiền xử lý dữ liệu giống như bạn đã làm khi đào tạo mô hình\n",
    "for column in data.columns:\n",
    "    column_type = data[column].dtype\n",
    "    if column_type == 'object':\n",
    "        data[column] = LabelEncoder().fit_transform(data[column])\n",
    "    elif column_type == 'int64' or column_type == 'float64':\n",
    "        data[column] = data[column].fillna(data[column].mean())\n",
    "\n",
    "# Sử dụng mô hình để dự đoán giá trị giá nhà cho toàn bộ dữ liệu\n",
    "x = data.drop(['SalePrice', 'Id' ], axis=1)\n",
    "y = data['SalePrice']\n",
    "\n",
    "linear_regression = LinearRegression()\n",
    "linear_regression.fit(x, y)\n",
    "\n",
    "y_pred = linear_regression.predict(x)\n",
    "\n",
    "# So sánh giá trị dự đoán với giá trị thực tế\n",
    "r2 = r2_score(y, y_pred)\n",
    "mse = mean_squared_error(y, y_pred)\n",
    "rmse = np.sqrt(mse)\n",
    "\n",
    "print(\"R-squared: %.2f\" % r2)\n",
    "print(\"Mean Squared Error: %.2f\" % mse)\n",
    "print(\"Root Mean Squared Error: %.2f\" % rmse)\n"
   ]
  },
  {
   "cell_type": "code",
   "execution_count": null,
   "id": "003dad7a-0b1e-4e62-b1de-f36e81c684b0",
   "metadata": {},
   "outputs": [],
   "source": []
  }
 ],
 "metadata": {
  "kernelspec": {
   "display_name": "Python 3 (ipykernel)",
   "language": "python",
   "name": "python3"
  },
  "language_info": {
   "codemirror_mode": {
    "name": "ipython",
    "version": 3
   },
   "file_extension": ".py",
   "mimetype": "text/x-python",
   "name": "python",
   "nbconvert_exporter": "python",
   "pygments_lexer": "ipython3",
   "version": "3.11.4"
  }
 },
 "nbformat": 4,
 "nbformat_minor": 5
}
