{
 "cells": [
  {
   "cell_type": "code",
   "execution_count": 3,
   "id": "3edd1f80-9e73-4b53-8c42-2364afb53fad",
   "metadata": {
    "tags": []
   },
   "outputs": [
    {
     "name": "stdout",
     "output_type": "stream",
     "text": [
      "R-squared: 0.79\n",
      "Mean Squared Error: 1250769572.87\n",
      "Root Mean Squared Error: 35366.22\n"
     ]
    }
   ],
   "source": [
    "import numpy as np\n",
    "import pandas as pd\n",
    "from sklearn.model_selection import train_test_split\n",
    "from sklearn.linear_model import LinearRegression\n",
    "from sklearn.metrics import r2_score, mean_squared_error\n",
    "from sklearn.impute import SimpleImputer\n",
    "from sklearn.ensemble import GradientBoostingRegressor\n",
    "\n",
    "\n",
    "# Đọc dữ liệu ban đầu từ tệp 'train.csv'\n",
    "data = pd.read_csv('Data/Pre-Processing-v0.2.csv')\n",
    "\n",
    "# Sử dụng mô hình để dự đoán giá trị giá nhà cho toàn bộ dữ liệu\n",
    "X = data.drop(['SalePrice'], axis=1)\n",
    "y = data['SalePrice']\n",
    "\n",
    "train_size = 700\n",
    "test_size = train_size+1\n",
    "X_train = X.head(train_size)\n",
    "y_train = y.head(train_size)\n",
    "\n",
    "X_test = X.tail(test_size)\n",
    "y_test = y.tail(test_size)\n",
    "\n",
    "gb_regressor = GradientBoostingRegressor(n_estimators=100, learning_rate=0.1, random_state=42)\n",
    "\n",
    "# Fit the model to the training data\n",
    "gb_regressor.fit(X_train, y_train)\n",
    "\n",
    "# Make predictions on the testing data\n",
    "y_pred = gb_regressor.predict(X_test)\n",
    "\n",
    "# Evaluate the model performance\n",
    "r2 = r2_score(y_test, y_pred)\n",
    "mse = mean_squared_error(y_test, y_pred)\n",
    "rmse = np.sqrt(mse)\n",
    "\n",
    "print(\"R-squared: %.2f\" % r2)\n",
    "print(\"Mean Squared Error: %.2f\" % mse)\n",
    "print(\"Root Mean Squared Error: %.2f\" % rmse)"
   ]
  },
  {
   "cell_type": "code",
   "execution_count": null,
   "id": "d517946c-77a2-4136-8bc1-5f1cf4d48d3d",
   "metadata": {},
   "outputs": [],
   "source": []
  }
 ],
 "metadata": {
  "kernelspec": {
   "display_name": "Python 3 (ipykernel)",
   "language": "python",
   "name": "python3"
  },
  "language_info": {
   "codemirror_mode": {
    "name": "ipython",
    "version": 3
   },
   "file_extension": ".py",
   "mimetype": "text/x-python",
   "name": "python",
   "nbconvert_exporter": "python",
   "pygments_lexer": "ipython3",
   "version": "3.11.4"
  }
 },
 "nbformat": 4,
 "nbformat_minor": 5
}
